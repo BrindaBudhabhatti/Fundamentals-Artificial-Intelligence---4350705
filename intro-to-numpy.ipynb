{
 "cells": [
  {
   "cell_type": "markdown",
   "id": "55edf645",
   "metadata": {},
   "source": [
    "# Practical - 1\n",
    "\n",
    "1. Write a python program to create 3x3 matrix and perform matrix addition using numpy\n",
    "2. Create a numpy array containing 10 random ints and find their mean and standard devition\n",
    "3. Implement a function to calculate the dot product of two given array using numpy"
   ]
  },
  {
   "cell_type": "code",
   "execution_count": 1,
   "id": "b9500a99",
   "metadata": {},
   "outputs": [],
   "source": [
    "import numpy as np"
   ]
  },
  {
   "cell_type": "markdown",
   "id": "11f4abdd",
   "metadata": {},
   "source": [
    "**1. Write a python program to create 3x3 matrix and perform matrix addition using numpy**\n"
   ]
  },
  {
   "cell_type": "code",
   "execution_count": 2,
   "id": "19932583",
   "metadata": {},
   "outputs": [
    {
     "data": {
      "text/plain": [
       "(array([[0, 1, 2],\n",
       "        [3, 4, 5],\n",
       "        [6, 7, 8]]),\n",
       " array([[ 9, 10, 11],\n",
       "        [12, 13, 14],\n",
       "        [15, 16, 17]]))"
      ]
     },
     "execution_count": 2,
     "metadata": {},
     "output_type": "execute_result"
    }
   ],
   "source": [
    "mat1 = np.reshape(np.arange(9), (3, 3))\n",
    "mat2 = np.reshape(np.arange(9, 18), (3, 3))\n",
    "mat1, mat2"
   ]
  },
  {
   "cell_type": "code",
   "execution_count": 19,
   "id": "065097c1",
   "metadata": {},
   "outputs": [
    {
     "data": {
      "text/plain": [
       "array([[ 9, 11, 13],\n",
       "       [15, 17, 19],\n",
       "       [21, 23, 25]])"
      ]
     },
     "execution_count": 19,
     "metadata": {},
     "output_type": "execute_result"
    }
   ],
   "source": [
    "np.add(mat1, mat2)"
   ]
  },
  {
   "cell_type": "markdown",
   "id": "9d04b440",
   "metadata": {},
   "source": [
    " 2. Create a numpy array containing 10 random ints and find their mean and standard devition "
   ]
  },
  {
   "cell_type": "code",
   "execution_count": 27,
   "id": "2648d86f",
   "metadata": {},
   "outputs": [
    {
     "data": {
      "text/plain": [
       "array([51, 57,  0, 46, 50, 27, 71, 46, 64,  7], dtype=int32)"
      ]
     },
     "execution_count": 27,
     "metadata": {},
     "output_type": "execute_result"
    }
   ],
   "source": [
    "arr = np.random.randint(0, 100, size=(10))\n",
    "arr"
   ]
  },
  {
   "cell_type": "code",
   "execution_count": 28,
   "id": "57503d2e",
   "metadata": {},
   "outputs": [
    {
     "data": {
      "text/plain": [
       "np.float64(22.22813532440362)"
      ]
     },
     "execution_count": 28,
     "metadata": {},
     "output_type": "execute_result"
    }
   ],
   "source": [
    "# Standard deviation:\n",
    "np.std(arr)"
   ]
  },
  {
   "cell_type": "code",
   "execution_count": 29,
   "id": "39558d98",
   "metadata": {},
   "outputs": [
    {
     "data": {
      "text/plain": [
       "np.float64(41.9)"
      ]
     },
     "execution_count": 29,
     "metadata": {},
     "output_type": "execute_result"
    }
   ],
   "source": [
    "# Mean:\n",
    "np.mean(arr)"
   ]
  },
  {
   "cell_type": "markdown",
   "id": "efb69429",
   "metadata": {},
   "source": [
    " 3. Implement a function to calculate the dot product of two given array using numpy "
   ]
  },
  {
   "cell_type": "code",
   "execution_count": 25,
   "id": "d421a0e7",
   "metadata": {},
   "outputs": [
    {
     "data": {
      "text/plain": [
       "(array([[0, 1, 2],\n",
       "        [3, 4, 5],\n",
       "        [6, 7, 8]]),\n",
       " array([[ 9, 10, 11],\n",
       "        [12, 13, 14],\n",
       "        [15, 16, 17]]))"
      ]
     },
     "execution_count": 25,
     "metadata": {},
     "output_type": "execute_result"
    }
   ],
   "source": [
    "arr1 = np.reshape(np.arange(9), (3, 3))\n",
    "arr2 = np.reshape(np.arange(9, 18), (3, 3))\n",
    "arr1, arr2"
   ]
  },
  {
   "cell_type": "code",
   "execution_count": 26,
   "id": "a0217c23",
   "metadata": {},
   "outputs": [
    {
     "data": {
      "text/plain": [
       "array([[ 42,  45,  48],\n",
       "       [150, 162, 174],\n",
       "       [258, 279, 300]])"
      ]
     },
     "execution_count": 26,
     "metadata": {},
     "output_type": "execute_result"
    }
   ],
   "source": [
    "np.dot(arr1, arr2)"
   ]
  },
  {
   "cell_type": "markdown",
   "id": "e29177ea",
   "metadata": {},
   "source": [
    "1. What is the purpose of NumPy Library in Python\n",
    "2. How do you create a NumPy array\n",
    "3. What are the advantages of using NumPy array over Python List "
   ]
  },
  {
   "cell_type": "markdown",
   "id": "3b3f44f7",
   "metadata": {},
   "source": [
    "Here are the answers to your questions about NumPy:\n",
    "\n",
    "---\n",
    "\n",
    "### **1. What is the purpose of NumPy Library in Python?**\n",
    "\n",
    "The purpose of NumPy is to provide support for large, multi-dimensional arrays and matrices along with a collection of mathematical functions to operate on these arrays efficiently.\n",
    "\n",
    "\n",
    "### **2. How do you create a NumPy array?**\n",
    "\n",
    "```python\n",
    "# Step-1: Import NumPy\n",
    "import numpy as np\n",
    "\n",
    "# Step-2: Creating array from list\n",
    "arr1 = np.array([1, 2, 3, 4])\n",
    "\n",
    "# Step-3: Print NumPy array\n",
    "print(arr1)\n",
    "```\n",
    "\n",
    "\n",
    "### **3. What are the advantages of using NumPy array over Python List?**\n",
    "Advantages of NumPy array over Python List:\n",
    "\n",
    "* Much faster\n",
    "* Uses less memory  \n",
    "* Supports advanced math ops\n",
    "* Built-in for matrices/tensors"
   ]
  },
  {
   "cell_type": "code",
   "execution_count": null,
   "id": "e99fce96",
   "metadata": {},
   "outputs": [],
   "source": []
  }
 ],
 "metadata": {
  "kernelspec": {
   "display_name": "Python 3",
   "language": "python",
   "name": "python3"
  },
  "language_info": {
   "codemirror_mode": {
    "name": "ipython",
    "version": 3
   },
   "file_extension": ".py",
   "mimetype": "text/x-python",
   "name": "python",
   "nbconvert_exporter": "python",
   "pygments_lexer": "ipython3",
   "version": "3.12.5"
  }
 },
 "nbformat": 4,
 "nbformat_minor": 5
}
